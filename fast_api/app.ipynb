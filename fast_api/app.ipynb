{
 "cells": [
  {
   "cell_type": "code",
   "execution_count": null,
   "metadata": {},
   "outputs": [],
   "source": [
    "# %pip install FastAPI\n",
    "# %pip install fastapi-offline\n",
    "# %pip install uvicorn"
   ]
  },
  {
   "cell_type": "code",
   "execution_count": 1,
   "metadata": {},
   "outputs": [],
   "source": [
    "from fastapi_offline import FastAPIOffline as FastAPI\n",
    "from fastapi import HTTPException\n",
    "from pydantic import BaseModel\n",
    "import sqlite3"
   ]
  },
  {
   "cell_type": "code",
   "execution_count": 2,
   "metadata": {},
   "outputs": [],
   "source": [
    "app = FastAPI()"
   ]
  },
  {
   "cell_type": "code",
   "execution_count": 3,
   "metadata": {},
   "outputs": [],
   "source": [
    "@app.get('/')\n",
    "async def read_root():\n",
    "    return {'message': 'Hello, FastAPI with offline capabilities!'}\n",
    "\n",
    "class Book(BaseModel):\n",
    "    id: int\n",
    "    title: str\n",
    "    author: str\n",
    "    year: int\n",
    "    \n",
    "def getdb():\n",
    "    conn = sqlite3.connect('books.db')\n",
    "    conn.row_factory = sqlite3.Row\n",
    "    return conn\n",
    "\n",
    "def initdb():\n",
    "    conn = getdb()\n",
    "    cursor = conn.cursor()\n",
    "    cursor.execute('''CREATE TABLE IF NOT EXISTS books (\n",
    "        id INTEGER PRIMARY KEY, \n",
    "        title TEXT NOT NULL, \n",
    "        author TEXT NOTEND, \n",
    "        year INTEGER NOT NULL\n",
    "        )\n",
    "        ''')\n",
    "    conn.commit()\n",
    "    conn.close()\n",
    "\n",
    "# initdb()\n",
    " \n",
    "@app.post('/book')\n",
    "def addnewbook(book: Book):\n",
    "    try:\n",
    "        conn = getdb()\n",
    "        cursor = conn.cursor()\n",
    "        cursor.execute(\"INSERT INTO books (title, author, year) VALUES (?,?,?)\", (book.title, book.author, book.year))\n",
    "        conn.commit()\n",
    "        conn.close()\n",
    "        return {'message': 'Book added successfully', 'body': book}\n",
    "    except Exception as e:\n",
    "        raise HTTPException(status_code=500, detail=f\"Database error {str(e)}\")\n",
    "\n",
    "\n",
    "@app.get('/books')\n",
    "def getallbooks():\n",
    "    conn = getdb()\n",
    "    cursor = conn.cursor()\n",
    "    cursor.execute(\"SELECT * FROM books\")\n",
    "    rows = cursor.fetchall()\n",
    "    books = []\n",
    "    for row in rows:\n",
    "        books.append(Book(id=row['id'], title=row['title'], author=row['author'], year=row['year']))\n",
    "    conn.close()\n",
    "    return books\n",
    "\n",
    "@app.get('/book/{book_id}')\n",
    "def getbookbyid(book_id: int):\n",
    "    conn = getdb()\n",
    "    cursor = conn.cursor()\n",
    "    cursor.execute(\"SELECT * FROM books WHERE id=?\", (book_id,))\n",
    "    row = cursor.fetchone()\n",
    "    if row is None:\n",
    "        raise HTTPException(status_code=404, detail=\"Book not found\")\n",
    "    conn.close()\n",
    "    return Book(id=row['id'], title=row['title'], author=row['author'], year=row['year'])\n",
    "\n",
    "@app.put('/book/{book_id}')\n",
    "def updatebook(book_id: int, book: Book):\n",
    "    try:\n",
    "        conn = getdb()\n",
    "        cursor = conn.cursor()\n",
    "        cursor.execute(\"UPDATE books SET title=?, author=?, year=? WHERE id=?\", (book.title, book.author, book.year, book_id))\n",
    "        conn.commit()\n",
    "        conn.close()\n",
    "        return {'message': 'Book updated successfully', 'body': book}\n",
    "    except Exception as e:\n",
    "        raise HTTPException(status_code=500, detail=f\"Database error {str(e)}\")\n",
    "\n",
    "@app.delete('/book/{book_id}')\n",
    "def deletebook(book_id: int):\n",
    "    try:\n",
    "        conn = getdb()\n",
    "        cursor = conn.cursor()\n",
    "        cursor.execute(\"DELETE FROM books WHERE id=?\", (book_id,))\n",
    "        conn.commit()\n",
    "        conn.close()\n",
    "        return {'message': 'Book deleted successfully'}\n",
    "    except Exception as e:\n",
    "        raise HTTPException(status_code=500, detail=f\"Database error {str(e)}\")\n"
   ]
  },
  {
   "cell_type": "code",
   "execution_count": 4,
   "metadata": {},
   "outputs": [
    {
     "name": "stderr",
     "output_type": "stream",
     "text": [
      "INFO:     Started server process [71353]\n",
      "INFO:     Waiting for application startup.\n",
      "INFO:     Application startup complete.\n",
      "INFO:     Uvicorn running on http://0.0.0.0:8000 (Press CTRL+C to quit)\n"
     ]
    },
    {
     "name": "stdout",
     "output_type": "stream",
     "text": [
      "INFO:     10.110.3.178:57276 - \"GET / HTTP/1.1\" 200 OK\n",
      "INFO:     192.168.13.158:58609 - \"GET / HTTP/1.1\" 200 OK\n",
      "INFO:     192.168.13.158:58609 - \"GET /favicon.ico HTTP/1.1\" 404 Not Found\n",
      "INFO:     192.168.13.158:58609 - \"GET / HTTP/1.1\" 200 OK\n",
      "INFO:     192.168.13.158:58609 - \"GET /books HTTP/1.1\" 200 OK\n",
      "INFO:     192.168.13.158:58767 - \"GET /books HTTP/1.1\" 200 OK\n",
      "INFO:     192.168.13.158:58784 - \"GET /books HTTP/1.1\" 200 OK\n",
      "INFO:     192.168.13.158:58798 - \"GET /books HTTP/1.1\" 200 OK\n"
     ]
    }
   ],
   "source": [
    "import asyncio\n",
    "import uvicorn\n",
    "\n",
    "# Configure the server with specific host (IP) and port\n",
    "config = uvicorn.Config(\n",
    "    app,     # Port number\n",
    "    reload=True      # Optional: enables auto-reload on code changes\n",
    ")\n",
    "\n",
    "server = uvicorn.Server(config=config)\n",
    "await server.serve()"
   ]
  }
 ],
 "metadata": {
  "kernelspec": {
   "display_name": "flask",
   "language": "python",
   "name": "python3"
  },
  "language_info": {
   "codemirror_mode": {
    "name": "ipython",
    "version": 3
   },
   "file_extension": ".py",
   "mimetype": "text/x-python",
   "name": "python",
   "nbconvert_exporter": "python",
   "pygments_lexer": "ipython3",
   "version": "3.12.8"
  }
 },
 "nbformat": 4,
 "nbformat_minor": 2
}
